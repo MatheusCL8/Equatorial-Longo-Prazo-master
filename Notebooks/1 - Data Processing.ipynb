{
 "cells": [
  {
   "cell_type": "code",
   "execution_count": 8,
   "metadata": {
    "collapsed": true
   },
   "outputs": [],
   "source": [
    "import pandas as pd\n",
    "import seaborn as sns\n",
    "import matplotlib.pyplot as plt\n",
    "\n",
    "from Source.Utilities.utilities import load_csv, save_csv, load_model, variation_generator, variation_perc_generator, time_shifter"
   ]
  },
  {
   "cell_type": "code",
   "execution_count": 9,
   "metadata": {
    "pycharm": {
     "name": "#%%\n"
    }
   },
   "outputs": [],
   "source": [
    "path_raw_data = '../Data/raw/Dataset_Injetada_Socioecon.csv'\n",
    "path_output = '../Data/processed/'\n",
    "\n",
    "df = load_csv(path_raw_data)"
   ]
  },
  {
   "cell_type": "code",
   "execution_count": 10,
   "metadata": {
    "pycharm": {
     "name": "#%% Run Configurations\n"
    }
   },
   "outputs": [],
   "source": [
    "variation_perc_columns = df.columns                     # Columns to apply variation in percentage\n",
    "variation_columns = []                                  # Columns to apply variation\n",
    "\n",
    "# Value to base variation calculation on (12 months is default)\n",
    "time_delta = 12\n",
    "time_shifts = [12]"
   ]
  },
  {
   "cell_type": "code",
   "execution_count": 11,
   "metadata": {
    "pycharm": {
     "name": "#%% Create Variation Columns\n"
    }
   },
   "outputs": [
    {
     "name": "stdout",
     "output_type": "stream",
     "text": [
      "Changed INJETADA to variation percentage with a 12 months time delta.\n",
      "\n",
      "Changed IPAGRO to variation percentage with a 12 months time delta.\n",
      "\n",
      "Changed MR-BF to variation percentage with a 12 months time delta.\n",
      "\n",
      "Changed Q-BF to variation percentage with a 12 months time delta.\n",
      "\n",
      "Changed MR-PS to variation percentage with a 12 months time delta.\n",
      "\n",
      "Changed IMR-TOT to variation percentage with a 12 months time delta.\n",
      "\n",
      "Changed IBCR to variation percentage with a 12 months time delta.\n",
      "\n",
      "Changed PIM to variation percentage with a 12 months time delta.\n",
      "\n",
      "Changed PMC to variation percentage with a 12 months time delta.\n",
      "\n"
     ]
    }
   ],
   "source": [
    "df_var = variation_perc_generator(df, variation_perc_columns, time_delta, inplace=True)\n",
    "#df_var = variation_generator(df, variation_columns, time_delta, inplace=True)\n"
   ]
  },
  {
   "cell_type": "code",
   "execution_count": 13,
   "metadata": {
    "pycharm": {
     "name": "#%%\n"
    }
   },
   "outputs": [
    {
     "name": "stdout",
     "output_type": "stream",
     "text": [
      "Added column \"INJETADA_var_T12\" to dataframe.\n",
      "Train and test files saved: Dados_INJETADA_var_T12.csv.\n",
      "\n"
     ]
    }
   ],
   "source": [
    "# Create Shifted Datasets and Save to CSV\n",
    "shifted_columns = ['INJETADA_var']                   # Columns to shift in time\n",
    "#time_shifts = [i*12 for i in range(11)]          # Create datasets according to this list of time shifts\n",
    "time_shifter(df_var, shifted_columns, time_shifts, path_output, inplace=False)\n"
   ]
  }
 ],
 "metadata": {
  "kernelspec": {
   "display_name": "Python 3",
   "language": "python",
   "name": "python3"
  },
  "language_info": {
   "codemirror_mode": {
    "name": "ipython",
    "version": 3
   },
   "file_extension": ".py",
   "mimetype": "text/x-python",
   "name": "python",
   "nbconvert_exporter": "python",
   "pygments_lexer": "ipython3",
   "version": "3.6.13"
  }
 },
 "nbformat": 4,
 "nbformat_minor": 1
}
