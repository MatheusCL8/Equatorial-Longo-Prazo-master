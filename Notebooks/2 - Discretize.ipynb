{
 "cells": [
  {
   "cell_type": "code",
   "execution_count": 1,
   "metadata": {},
   "outputs": [],
   "source": [
    "from sklearn.preprocessing import KBinsDiscretizer\n",
    "import pandas as pd\n",
    "\n",
    "path_training = \"/Users/andrematte/Python/Projects/Equatorial/data/time_shifts/Dados_CFCT_var_T12.csv\"\n",
    "#path_test =  \"/Users/andrematte/Python/Projects/Equatorial/experiments/27-4-20/Brutos/Kmeans/KmeansTeste_CFCT_var_T+12.csv\"\n",
    "\n",
    "n_bins = 3\n",
    " \n",
    "train = pd.read_csv(path_training)\n",
    "#test = pd.read_csv(path_test)"
   ]
  },
  {
   "cell_type": "code",
   "execution_count": 2,
   "metadata": {},
   "outputs": [],
   "source": [
    "train.drop(columns=['DATA'], inplace=True)\n",
    "train.dropna(inplace=True)\n",
    "#test.drop(columns=['DATA'], inplace=True)"
   ]
  },
  {
   "cell_type": "code",
   "execution_count": 3,
   "metadata": {},
   "outputs": [],
   "source": [
    "estKmeans = KBinsDiscretizer(strategy=\"kmeans\", n_bins=n_bins, encode = \"ordinal\")\n",
    "estQuant = KBinsDiscretizer(strategy=\"quantile\", n_bins=n_bins, encode = \"ordinal\")\n",
    "estFreq = KBinsDiscretizer(strategy=\"uniform\", n_bins=n_bins, encode = \"ordinal\")"
   ]
  },
  {
   "cell_type": "code",
   "execution_count": 4,
   "metadata": {},
   "outputs": [
    {
     "data": {
      "text/plain": [
       "KBinsDiscretizer(encode='ordinal', n_bins=3, strategy='uniform')"
      ]
     },
     "execution_count": 4,
     "metadata": {},
     "output_type": "execute_result"
    }
   ],
   "source": [
    "estKmeans.fit(train)\n",
    "estQuant.fit(train)\n",
    "estFreq.fit(train)"
   ]
  },
  {
   "cell_type": "code",
   "execution_count": 5,
   "metadata": {},
   "outputs": [],
   "source": [
    "train_kmeans = pd.DataFrame(estKmeans.transform(train), columns=train.columns)\n",
    "train_kmeans.to_csv(\"/Users/andrematte/Desktop/Injetada_Kmeans.csv\", index=False)"
   ]
  },
  {
   "cell_type": "code",
   "execution_count": 6,
   "metadata": {},
   "outputs": [],
   "source": [
    "train_quant = pd.DataFrame(estQuant.transform(train), columns=train.columns)\n",
    "train_quant.to_csv(\"/Users/andrematte/Desktop/Injetada_Quant.csv\", index=False)"
   ]
  },
  {
   "cell_type": "code",
   "execution_count": 7,
   "metadata": {},
   "outputs": [],
   "source": [
    "train_freq = pd.DataFrame(estFreq.transform(train), columns=train.columns)\n",
    "train_freq.to_csv(\"/Users/andrematte/Desktop/Injetada_Freq.csv\", index=False)"
   ]
  },
  {
   "cell_type": "code",
   "execution_count": 8,
   "metadata": {},
   "outputs": [],
   "source": [
    "edges = pd.DataFrame()\n",
    "\n",
    "edges['Row Name'] = train.columns\n",
    "edges['Kmeans'] = estKmeans.bin_edges_\n",
    "edges['Quantile'] = estQuant.bin_edges_\n",
    "edges['Uniform'] = estFreq.bin_edges_"
   ]
  },
  {
   "cell_type": "code",
   "execution_count": 9,
   "metadata": {},
   "outputs": [],
   "source": [
    "edges.to_csv('/Users/andrematte/Desktop/Injetada_Edges.csv')"
   ]
  },
  {
   "cell_type": "code",
   "execution_count": 12,
   "metadata": {},
   "outputs": [
    {
     "data": {
      "text/plain": [
       "0    [-45.77409162717218, -10.199339692491813, 20.5...\n",
       "1    [-3.9242116812693735, 1.2994139956714243, 8.03...\n",
       "2    [-2.8508860227176136, 0.7907900881511777, 5.29...\n",
       "3    [-0.9789986570928332, 3.070628179962701, 8.397...\n",
       "4    [-13.890457368718236, 1.2424533454682174, 17.0...\n",
       "5    [-14.709302325581396, -4.730530757962689, 3.60...\n",
       "6    [-29.02097902097902, -1.5650229162469165, 40.6...\n",
       "7    [-32.927888792354466, -8.368415149117576, 11.2...\n",
       "8    [-13.925850077969393, -1.9812948810574316, 6.1...\n",
       "Name: Kmeans, dtype: object"
      ]
     },
     "execution_count": 12,
     "metadata": {},
     "output_type": "execute_result"
    }
   ],
   "source": [
    "edges['Kmeans']"
   ]
  },
  {
   "cell_type": "code",
   "execution_count": null,
   "metadata": {},
   "outputs": [],
   "source": [
    "predict2018 = pd.read_csv(\"/Users/andrematte/Desktop/2018.csv\")\n",
    "predict2018.drop(columns=['DATA'], inplace=True)"
   ]
  },
  {
   "cell_type": "code",
   "execution_count": null,
   "metadata": {},
   "outputs": [],
   "source": [
    "discrete2018 = pd.DataFrame(estQuant.transform(predict2018), columns=[predict2018.columns])"
   ]
  },
  {
   "cell_type": "code",
   "execution_count": null,
   "metadata": {},
   "outputs": [],
   "source": [
    "discrete2018.head()"
   ]
  },
  {
   "cell_type": "code",
   "execution_count": null,
   "metadata": {},
   "outputs": [],
   "source": [
    "discrete2018.to_csv('/Users/andrematte/Desktop/2018discrete.csv',index=False)"
   ]
  }
 ],
 "metadata": {
  "kernelspec": {
   "display_name": "Python 3",
   "language": "python",
   "name": "python3"
  },
  "language_info": {
   "codemirror_mode": {
    "name": "ipython",
    "version": 3
   },
   "file_extension": ".py",
   "mimetype": "text/x-python",
   "name": "python",
   "nbconvert_exporter": "python",
   "pygments_lexer": "ipython3",
   "version": "3.6.13"
  }
 },
 "nbformat": 4,
 "nbformat_minor": 4
}
